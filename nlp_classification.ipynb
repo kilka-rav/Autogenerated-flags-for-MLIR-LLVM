{
 "cells": [
  {
   "cell_type": "code",
   "execution_count": 60,
   "id": "c19c802e",
   "metadata": {},
   "outputs": [
    {
     "name": "stdout",
     "output_type": "stream",
     "text": [
      "start\n"
     ]
    }
   ],
   "source": [
    "from collections import Counter\n",
    "from typing import List, Tuple\n",
    "\n",
    "import torch\n",
    "import torch.nn as nn\n",
    "import torch.nn.functional as F\n",
    "from tqdm import tqdm\n",
    "from torch.utils.data import Dataset\n",
    "\n",
    "\n",
    "\n",
    "print(\"start\")\n",
    "\n",
    "class FlagsDataset(Dataset):\n",
    "    def __init__(self, path: str) -> None:\n",
    "        super().__init__()\n",
    "        \n",
    "        self._data, self._vocab, self._unique_flags = self._load_data(path)\n",
    "        self._word2idx = {word: idx + 1 for idx, word in enumerate(self._vocab)}\n",
    "        self._flag2idx = {flag: idx for idx, flag in enumerate(self._unique_flags)}\n",
    "        \n",
    "        self.vocab_size = len(self._vocab) + 1\n",
    "        self.n_classes = len(self._unique_flags)\n",
    "        \n",
    "    def _load_data(self, path: str) -> List:\n",
    "        vocab, unique_flags = Counter(), Counter()\n",
    "        data = []\n",
    "        file = open(path, 'r')\n",
    "        for line in file:\n",
    "            flags = (line[line.index('[') + 1:line.index(']')]).split(', ')\n",
    "            flags = [self._filter(flag) for flag in flags]\n",
    "            unique_flags += Counter(flags)\n",
    "\n",
    "            file_paths = (line[line.index('] [') + 3:]).replace(']', '').split(', ')\n",
    "            file_paths = [self._tokenize(self._filter(file_path)) for file_path in file_paths]\n",
    "            file_paths = [item for sublist in file_paths for item in sublist]\n",
    "            vocab += Counter(file_paths)\n",
    "\n",
    "            data.append((file_paths, flags))\n",
    "\n",
    "        vocab = sorted(vocab, key=vocab.get, reverse=True)\n",
    "        unique_flags = sorted(unique_flags, key=unique_flags.get, reverse=True)\n",
    "\n",
    "        return data, vocab, unique_flags\n",
    "    \n",
    "    def _tokenize(self, text: str) -> List:\n",
    "        return text.split('/')[1:]\n",
    "    \n",
    "    def _filter(self, text: str) -> str:\n",
    "        text = text.replace('\\n', '')\n",
    "        text = text.replace(\"'\", '')\n",
    "        return text\n",
    "    \n",
    "    def __len__(self, ) -> int:\n",
    "        return len(self._data)\n",
    "    \n",
    "    def __getitem__(self, idx: int) -> Tuple[List, List]:\n",
    "        paths, flags = self._data[idx]\n",
    "        \n",
    "        inputs = torch.tensor([self._word2idx[word] for word in paths], dtype=torch.int64)\n",
    "        #inputs = F.pad(inputs, (0, self._max_len - len(inputs)), value=0)\n",
    "        \n",
    "        labels = torch.zeros(self.n_classes, dtype=torch.float)\n",
    "        labels[[self._flag2idx[flag] for flag in flags]] = 1\n",
    "        \n",
    "        return inputs, labels"
   ]
  },
  {
   "cell_type": "code",
   "execution_count": 2,
   "id": "b535823e",
   "metadata": {},
   "outputs": [],
   "source": [
    "class FlagClassifier(nn.Module):\n",
    "    def __init__(self, vocab_size, n_classes, emb_dim=64, hidden_dim=128) -> None:\n",
    "        super().__init__()\n",
    "        \n",
    "        self.hidden_dim = hidden_dim\n",
    "        self.emb_layer = nn.Embedding(vocab_size, emb_dim)\n",
    "        self.lstm = nn.LSTM(emb_dim, hidden_dim)\n",
    "        \n",
    "        self.linear = nn.Linear(hidden_dim, n_classes)\n",
    "        \n",
    "    def forward(self, x: torch.Tensor) -> torch.Tensor:\n",
    "        x = self.emb_layer(x)\n",
    "        x, _ = self.lstm(x)\n",
    "        x = self.linear(x[-1])\n",
    "        return x"
   ]
  },
  {
   "cell_type": "code",
   "execution_count": 3,
   "id": "fa1c8667",
   "metadata": {},
   "outputs": [],
   "source": [
    "def collate_fn(batch: List[Tuple[torch.Tensor, torch.Tensor]]) -> torch.Tensor:\n",
    "    inputs = [item[0] for item in batch]\n",
    "    labels = [item[1] for item in batch]\n",
    "    return nn.utils.rnn.pad_sequence(inputs, padding_value=0), torch.stack(labels, axis=0)\n",
    "\n",
    "dataset = FlagsDataset(\"dataset.txt\")\n",
    "dataloader = torch.utils.data.DataLoader(dataset, batch_size=32, collate_fn=collate_fn, shuffle=True)\n",
    "\n",
    "device = torch.device(\"cpu\")\n",
    "model = FlagClassifier(dataset.vocab_size, dataset.n_classes, dataset._max_len).to(device)\n",
    "loss_fn = nn.BCEWithLogitsLoss()\n",
    "optimizer = torch.optim.AdamW(model.parameters())"
   ]
  },
  {
   "cell_type": "code",
   "execution_count": 4,
   "id": "ac8e15fd",
   "metadata": {},
   "outputs": [
    {
     "name": "stderr",
     "output_type": "stream",
     "text": [
      "100%|██████████| 43/43 [00:46<00:00,  1.08s/it]\n"
     ]
    },
    {
     "name": "stdout",
     "output_type": "stream",
     "text": [
      "Epoch 1 finished, train loss: 0.2637136592421421\n"
     ]
    },
    {
     "name": "stderr",
     "output_type": "stream",
     "text": [
      "100%|██████████| 43/43 [00:59<00:00,  1.38s/it]\n"
     ]
    },
    {
     "name": "stdout",
     "output_type": "stream",
     "text": [
      "Epoch 2 finished, train loss: 0.045643650775038916\n"
     ]
    },
    {
     "name": "stderr",
     "output_type": "stream",
     "text": [
      "100%|██████████| 43/43 [01:55<00:00,  2.68s/it]\n"
     ]
    },
    {
     "name": "stdout",
     "output_type": "stream",
     "text": [
      "Epoch 3 finished, train loss: 0.027999386234685432\n"
     ]
    },
    {
     "name": "stderr",
     "output_type": "stream",
     "text": [
      "100%|██████████| 43/43 [00:46<00:00,  1.07s/it]\n"
     ]
    },
    {
     "name": "stdout",
     "output_type": "stream",
     "text": [
      "Epoch 4 finished, train loss: 0.024610680376374445\n"
     ]
    },
    {
     "name": "stderr",
     "output_type": "stream",
     "text": [
      "100%|██████████| 43/43 [00:20<00:00,  2.07it/s]\n"
     ]
    },
    {
     "name": "stdout",
     "output_type": "stream",
     "text": [
      "Epoch 5 finished, train loss: 0.02359141015209431\n"
     ]
    },
    {
     "name": "stderr",
     "output_type": "stream",
     "text": [
      "100%|██████████| 43/43 [00:15<00:00,  2.69it/s]\n"
     ]
    },
    {
     "name": "stdout",
     "output_type": "stream",
     "text": [
      "Epoch 6 finished, train loss: 0.023209836333990097\n"
     ]
    },
    {
     "name": "stderr",
     "output_type": "stream",
     "text": [
      "100%|██████████| 43/43 [00:13<00:00,  3.13it/s]\n"
     ]
    },
    {
     "name": "stdout",
     "output_type": "stream",
     "text": [
      "Epoch 7 finished, train loss: 0.023027042360153308\n"
     ]
    },
    {
     "name": "stderr",
     "output_type": "stream",
     "text": [
      "100%|██████████| 43/43 [00:13<00:00,  3.19it/s]\n"
     ]
    },
    {
     "name": "stdout",
     "output_type": "stream",
     "text": [
      "Epoch 8 finished, train loss: 0.022926568941668023\n"
     ]
    },
    {
     "name": "stderr",
     "output_type": "stream",
     "text": [
      "100%|██████████| 43/43 [00:16<00:00,  2.57it/s]\n"
     ]
    },
    {
     "name": "stdout",
     "output_type": "stream",
     "text": [
      "Epoch 9 finished, train loss: 0.022867907011924787\n"
     ]
    },
    {
     "name": "stderr",
     "output_type": "stream",
     "text": [
      "100%|██████████| 43/43 [00:13<00:00,  3.12it/s]\n"
     ]
    },
    {
     "name": "stdout",
     "output_type": "stream",
     "text": [
      "Epoch 10 finished, train loss: 0.02282653081902238\n"
     ]
    },
    {
     "name": "stderr",
     "output_type": "stream",
     "text": [
      "100%|██████████| 43/43 [00:10<00:00,  3.97it/s]\n"
     ]
    },
    {
     "name": "stdout",
     "output_type": "stream",
     "text": [
      "Epoch 11 finished, train loss: 0.022778374900998072\n"
     ]
    },
    {
     "name": "stderr",
     "output_type": "stream",
     "text": [
      "100%|██████████| 43/43 [00:10<00:00,  3.99it/s]\n"
     ]
    },
    {
     "name": "stdout",
     "output_type": "stream",
     "text": [
      "Epoch 12 finished, train loss: 0.022654397802990535\n"
     ]
    },
    {
     "name": "stderr",
     "output_type": "stream",
     "text": [
      "100%|██████████| 43/43 [00:10<00:00,  4.14it/s]\n"
     ]
    },
    {
     "name": "stdout",
     "output_type": "stream",
     "text": [
      "Epoch 13 finished, train loss: 0.022505732643049815\n"
     ]
    },
    {
     "name": "stderr",
     "output_type": "stream",
     "text": [
      "100%|██████████| 43/43 [00:18<00:00,  2.34it/s]\n"
     ]
    },
    {
     "name": "stdout",
     "output_type": "stream",
     "text": [
      "Epoch 14 finished, train loss: 0.022382597893823023\n"
     ]
    },
    {
     "name": "stderr",
     "output_type": "stream",
     "text": [
      "100%|██████████| 43/43 [00:14<00:00,  2.98it/s]\n"
     ]
    },
    {
     "name": "stdout",
     "output_type": "stream",
     "text": [
      "Epoch 15 finished, train loss: 0.022209780810530797\n"
     ]
    },
    {
     "name": "stderr",
     "output_type": "stream",
     "text": [
      "100%|██████████| 43/43 [00:11<00:00,  3.73it/s]\n"
     ]
    },
    {
     "name": "stdout",
     "output_type": "stream",
     "text": [
      "Epoch 16 finished, train loss: 0.022078998213590578\n"
     ]
    },
    {
     "name": "stderr",
     "output_type": "stream",
     "text": [
      "100%|██████████| 43/43 [00:10<00:00,  4.02it/s]\n"
     ]
    },
    {
     "name": "stdout",
     "output_type": "stream",
     "text": [
      "Epoch 17 finished, train loss: 0.021944463079751925\n"
     ]
    },
    {
     "name": "stderr",
     "output_type": "stream",
     "text": [
      "100%|██████████| 43/43 [00:10<00:00,  4.27it/s]\n"
     ]
    },
    {
     "name": "stdout",
     "output_type": "stream",
     "text": [
      "Epoch 18 finished, train loss: 0.021717366567531298\n"
     ]
    },
    {
     "name": "stderr",
     "output_type": "stream",
     "text": [
      "100%|██████████| 43/43 [00:09<00:00,  4.36it/s]\n"
     ]
    },
    {
     "name": "stdout",
     "output_type": "stream",
     "text": [
      "Epoch 19 finished, train loss: 0.021541015136727067\n"
     ]
    },
    {
     "name": "stderr",
     "output_type": "stream",
     "text": [
      "100%|██████████| 43/43 [00:09<00:00,  4.72it/s]\n"
     ]
    },
    {
     "name": "stdout",
     "output_type": "stream",
     "text": [
      "Epoch 20 finished, train loss: 0.02128559272996215\n"
     ]
    },
    {
     "name": "stderr",
     "output_type": "stream",
     "text": [
      "100%|██████████| 43/43 [00:09<00:00,  4.55it/s]\n"
     ]
    },
    {
     "name": "stdout",
     "output_type": "stream",
     "text": [
      "Epoch 21 finished, train loss: 0.020864117977231048\n"
     ]
    },
    {
     "name": "stderr",
     "output_type": "stream",
     "text": [
      "100%|██████████| 43/43 [00:09<00:00,  4.46it/s]\n"
     ]
    },
    {
     "name": "stdout",
     "output_type": "stream",
     "text": [
      "Epoch 22 finished, train loss: 0.020456047035580457\n"
     ]
    },
    {
     "name": "stderr",
     "output_type": "stream",
     "text": [
      "100%|██████████| 43/43 [00:09<00:00,  4.44it/s]\n"
     ]
    },
    {
     "name": "stdout",
     "output_type": "stream",
     "text": [
      "Epoch 23 finished, train loss: 0.020167776924926183\n"
     ]
    },
    {
     "name": "stderr",
     "output_type": "stream",
     "text": [
      "100%|██████████| 43/43 [00:15<00:00,  2.76it/s]\n"
     ]
    },
    {
     "name": "stdout",
     "output_type": "stream",
     "text": [
      "Epoch 24 finished, train loss: 0.019891838867997013\n"
     ]
    },
    {
     "name": "stderr",
     "output_type": "stream",
     "text": [
      "100%|██████████| 43/43 [00:13<00:00,  3.17it/s]\n"
     ]
    },
    {
     "name": "stdout",
     "output_type": "stream",
     "text": [
      "Epoch 25 finished, train loss: 0.019595871051383572\n"
     ]
    },
    {
     "name": "stderr",
     "output_type": "stream",
     "text": [
      "100%|██████████| 43/43 [00:11<00:00,  3.68it/s]\n"
     ]
    },
    {
     "name": "stdout",
     "output_type": "stream",
     "text": [
      "Epoch 26 finished, train loss: 0.019279249532278196\n"
     ]
    },
    {
     "name": "stderr",
     "output_type": "stream",
     "text": [
      "100%|██████████| 43/43 [00:09<00:00,  4.64it/s]\n"
     ]
    },
    {
     "name": "stdout",
     "output_type": "stream",
     "text": [
      "Epoch 27 finished, train loss: 0.018876210504839588\n"
     ]
    },
    {
     "name": "stderr",
     "output_type": "stream",
     "text": [
      "100%|██████████| 43/43 [00:09<00:00,  4.42it/s]\n"
     ]
    },
    {
     "name": "stdout",
     "output_type": "stream",
     "text": [
      "Epoch 28 finished, train loss: 0.018407802595648656\n"
     ]
    },
    {
     "name": "stderr",
     "output_type": "stream",
     "text": [
      "100%|██████████| 43/43 [00:17<00:00,  2.50it/s]\n"
     ]
    },
    {
     "name": "stdout",
     "output_type": "stream",
     "text": [
      "Epoch 29 finished, train loss: 0.017927492318978142\n"
     ]
    },
    {
     "name": "stderr",
     "output_type": "stream",
     "text": [
      "100%|██████████| 43/43 [00:12<00:00,  3.53it/s]\n"
     ]
    },
    {
     "name": "stdout",
     "output_type": "stream",
     "text": [
      "Epoch 30 finished, train loss: 0.017488854179202123\n"
     ]
    },
    {
     "name": "stderr",
     "output_type": "stream",
     "text": [
      "100%|██████████| 43/43 [00:10<00:00,  4.10it/s]\n"
     ]
    },
    {
     "name": "stdout",
     "output_type": "stream",
     "text": [
      "Epoch 31 finished, train loss: 0.01711505398067624\n"
     ]
    },
    {
     "name": "stderr",
     "output_type": "stream",
     "text": [
      "100%|██████████| 43/43 [00:09<00:00,  4.61it/s]\n"
     ]
    },
    {
     "name": "stdout",
     "output_type": "stream",
     "text": [
      "Epoch 32 finished, train loss: 0.01671597370228102\n"
     ]
    },
    {
     "name": "stderr",
     "output_type": "stream",
     "text": [
      "100%|██████████| 43/43 [00:09<00:00,  4.68it/s]\n"
     ]
    },
    {
     "name": "stdout",
     "output_type": "stream",
     "text": [
      "Epoch 33 finished, train loss: 0.01628219953543225\n"
     ]
    },
    {
     "name": "stderr",
     "output_type": "stream",
     "text": [
      "100%|██████████| 43/43 [00:09<00:00,  4.64it/s]\n"
     ]
    },
    {
     "name": "stdout",
     "output_type": "stream",
     "text": [
      "Epoch 34 finished, train loss: 0.015770976041811845\n"
     ]
    },
    {
     "name": "stderr",
     "output_type": "stream",
     "text": [
      "100%|██████████| 43/43 [00:09<00:00,  4.58it/s]\n"
     ]
    },
    {
     "name": "stdout",
     "output_type": "stream",
     "text": [
      "Epoch 35 finished, train loss: 0.015316356753194055\n"
     ]
    },
    {
     "name": "stderr",
     "output_type": "stream",
     "text": [
      "100%|██████████| 43/43 [00:09<00:00,  4.74it/s]\n"
     ]
    },
    {
     "name": "stdout",
     "output_type": "stream",
     "text": [
      "Epoch 36 finished, train loss: 0.014947118497518607\n"
     ]
    },
    {
     "name": "stderr",
     "output_type": "stream",
     "text": [
      "100%|██████████| 43/43 [00:09<00:00,  4.53it/s]\n"
     ]
    },
    {
     "name": "stdout",
     "output_type": "stream",
     "text": [
      "Epoch 37 finished, train loss: 0.01451470442982607\n"
     ]
    },
    {
     "name": "stderr",
     "output_type": "stream",
     "text": [
      "100%|██████████| 43/43 [00:09<00:00,  4.68it/s]\n"
     ]
    },
    {
     "name": "stdout",
     "output_type": "stream",
     "text": [
      "Epoch 38 finished, train loss: 0.014268360165662543\n"
     ]
    },
    {
     "name": "stderr",
     "output_type": "stream",
     "text": [
      "100%|██████████| 43/43 [00:13<00:00,  3.31it/s]\n"
     ]
    },
    {
     "name": "stdout",
     "output_type": "stream",
     "text": [
      "Epoch 39 finished, train loss: 0.013968021024105161\n"
     ]
    },
    {
     "name": "stderr",
     "output_type": "stream",
     "text": [
      "100%|██████████| 43/43 [00:15<00:00,  2.86it/s]\n"
     ]
    },
    {
     "name": "stdout",
     "output_type": "stream",
     "text": [
      "Epoch 40 finished, train loss: 0.013679721760888433\n"
     ]
    },
    {
     "name": "stderr",
     "output_type": "stream",
     "text": [
      "100%|██████████| 43/43 [00:11<00:00,  3.59it/s]\n"
     ]
    },
    {
     "name": "stdout",
     "output_type": "stream",
     "text": [
      "Epoch 41 finished, train loss: 0.013388315410634805\n"
     ]
    },
    {
     "name": "stderr",
     "output_type": "stream",
     "text": [
      "100%|██████████| 43/43 [00:09<00:00,  4.64it/s]\n"
     ]
    },
    {
     "name": "stdout",
     "output_type": "stream",
     "text": [
      "Epoch 42 finished, train loss: 0.01318523961357599\n"
     ]
    },
    {
     "name": "stderr",
     "output_type": "stream",
     "text": [
      "100%|██████████| 43/43 [00:09<00:00,  4.65it/s]\n"
     ]
    },
    {
     "name": "stdout",
     "output_type": "stream",
     "text": [
      "Epoch 43 finished, train loss: 0.012906751595437527\n"
     ]
    },
    {
     "name": "stderr",
     "output_type": "stream",
     "text": [
      "100%|██████████| 43/43 [00:11<00:00,  3.64it/s]\n"
     ]
    },
    {
     "name": "stdout",
     "output_type": "stream",
     "text": [
      "Epoch 44 finished, train loss: 0.012646295909964762\n"
     ]
    },
    {
     "name": "stderr",
     "output_type": "stream",
     "text": [
      "100%|██████████| 43/43 [00:15<00:00,  2.72it/s]\n"
     ]
    },
    {
     "name": "stdout",
     "output_type": "stream",
     "text": [
      "Epoch 45 finished, train loss: 0.012382464916553608\n"
     ]
    },
    {
     "name": "stderr",
     "output_type": "stream",
     "text": [
      "100%|██████████| 43/43 [00:12<00:00,  3.44it/s]\n"
     ]
    },
    {
     "name": "stdout",
     "output_type": "stream",
     "text": [
      "Epoch 46 finished, train loss: 0.012137643754655538\n"
     ]
    },
    {
     "name": "stderr",
     "output_type": "stream",
     "text": [
      "100%|██████████| 43/43 [00:11<00:00,  3.86it/s]\n"
     ]
    },
    {
     "name": "stdout",
     "output_type": "stream",
     "text": [
      "Epoch 47 finished, train loss: 0.011935095042856626\n"
     ]
    },
    {
     "name": "stderr",
     "output_type": "stream",
     "text": [
      "100%|██████████| 43/43 [00:48<00:00,  1.13s/it]\n"
     ]
    },
    {
     "name": "stdout",
     "output_type": "stream",
     "text": [
      "Epoch 48 finished, train loss: 0.011744829154638358\n"
     ]
    },
    {
     "name": "stderr",
     "output_type": "stream",
     "text": [
      "100%|██████████| 43/43 [00:42<00:00,  1.01it/s]\n"
     ]
    },
    {
     "name": "stdout",
     "output_type": "stream",
     "text": [
      "Epoch 49 finished, train loss: 0.011571621695576711\n"
     ]
    },
    {
     "name": "stderr",
     "output_type": "stream",
     "text": [
      "100%|██████████| 43/43 [00:25<00:00,  1.68it/s]\n"
     ]
    },
    {
     "name": "stdout",
     "output_type": "stream",
     "text": [
      "Epoch 50 finished, train loss: 0.011342819065375383\n"
     ]
    },
    {
     "name": "stderr",
     "output_type": "stream",
     "text": [
      "100%|██████████| 43/43 [00:09<00:00,  4.64it/s]\n"
     ]
    },
    {
     "name": "stdout",
     "output_type": "stream",
     "text": [
      "Epoch 51 finished, train loss: 0.011132192191516245\n"
     ]
    },
    {
     "name": "stderr",
     "output_type": "stream",
     "text": [
      "100%|██████████| 43/43 [00:09<00:00,  4.74it/s]\n"
     ]
    },
    {
     "name": "stdout",
     "output_type": "stream",
     "text": [
      "Epoch 52 finished, train loss: 0.010948054622425589\n"
     ]
    },
    {
     "name": "stderr",
     "output_type": "stream",
     "text": [
      "100%|██████████| 43/43 [00:09<00:00,  4.50it/s]\n"
     ]
    },
    {
     "name": "stdout",
     "output_type": "stream",
     "text": [
      "Epoch 53 finished, train loss: 0.01076779291466918\n"
     ]
    },
    {
     "name": "stderr",
     "output_type": "stream",
     "text": [
      "100%|██████████| 43/43 [00:08<00:00,  4.82it/s]\n"
     ]
    },
    {
     "name": "stdout",
     "output_type": "stream",
     "text": [
      "Epoch 54 finished, train loss: 0.010565367917162042\n"
     ]
    },
    {
     "name": "stderr",
     "output_type": "stream",
     "text": [
      "100%|██████████| 43/43 [00:09<00:00,  4.68it/s]\n"
     ]
    },
    {
     "name": "stdout",
     "output_type": "stream",
     "text": [
      "Epoch 55 finished, train loss: 0.010418543743706026\n"
     ]
    },
    {
     "name": "stderr",
     "output_type": "stream",
     "text": [
      "100%|██████████| 43/43 [00:09<00:00,  4.54it/s]\n"
     ]
    },
    {
     "name": "stdout",
     "output_type": "stream",
     "text": [
      "Epoch 56 finished, train loss: 0.01023105941279683\n"
     ]
    },
    {
     "name": "stderr",
     "output_type": "stream",
     "text": [
      "100%|██████████| 43/43 [00:09<00:00,  4.66it/s]\n"
     ]
    },
    {
     "name": "stdout",
     "output_type": "stream",
     "text": [
      "Epoch 57 finished, train loss: 0.010012224955527588\n"
     ]
    },
    {
     "name": "stderr",
     "output_type": "stream",
     "text": [
      "100%|██████████| 43/43 [00:09<00:00,  4.77it/s]\n"
     ]
    },
    {
     "name": "stdout",
     "output_type": "stream",
     "text": [
      "Epoch 58 finished, train loss: 0.009877057951810054\n"
     ]
    },
    {
     "name": "stderr",
     "output_type": "stream",
     "text": [
      "100%|██████████| 43/43 [00:09<00:00,  4.68it/s]\n"
     ]
    },
    {
     "name": "stdout",
     "output_type": "stream",
     "text": [
      "Epoch 59 finished, train loss: 0.009714350569993258\n"
     ]
    },
    {
     "name": "stderr",
     "output_type": "stream",
     "text": [
      "100%|██████████| 43/43 [00:09<00:00,  4.70it/s]\n"
     ]
    },
    {
     "name": "stdout",
     "output_type": "stream",
     "text": [
      "Epoch 60 finished, train loss: 0.009557869512761054\n"
     ]
    },
    {
     "name": "stderr",
     "output_type": "stream",
     "text": [
      "100%|██████████| 43/43 [00:09<00:00,  4.58it/s]\n"
     ]
    },
    {
     "name": "stdout",
     "output_type": "stream",
     "text": [
      "Epoch 61 finished, train loss: 0.009465699181567097\n"
     ]
    },
    {
     "name": "stderr",
     "output_type": "stream",
     "text": [
      "100%|██████████| 43/43 [00:09<00:00,  4.59it/s]\n"
     ]
    },
    {
     "name": "stdout",
     "output_type": "stream",
     "text": [
      "Epoch 62 finished, train loss: 0.009252642530428117\n"
     ]
    },
    {
     "name": "stderr",
     "output_type": "stream",
     "text": [
      "100%|██████████| 43/43 [00:09<00:00,  4.74it/s]\n"
     ]
    },
    {
     "name": "stdout",
     "output_type": "stream",
     "text": [
      "Epoch 63 finished, train loss: 0.00909142535136536\n"
     ]
    },
    {
     "name": "stderr",
     "output_type": "stream",
     "text": [
      "100%|██████████| 43/43 [00:09<00:00,  4.77it/s]\n"
     ]
    },
    {
     "name": "stdout",
     "output_type": "stream",
     "text": [
      "Epoch 64 finished, train loss: 0.008972412224339192\n"
     ]
    },
    {
     "name": "stderr",
     "output_type": "stream",
     "text": [
      "100%|██████████| 43/43 [00:14<00:00,  3.02it/s]\n"
     ]
    },
    {
     "name": "stdout",
     "output_type": "stream",
     "text": [
      "Epoch 65 finished, train loss: 0.008824192593957102\n"
     ]
    },
    {
     "name": "stderr",
     "output_type": "stream",
     "text": [
      "100%|██████████| 43/43 [00:14<00:00,  3.06it/s]\n"
     ]
    },
    {
     "name": "stdout",
     "output_type": "stream",
     "text": [
      "Epoch 66 finished, train loss: 0.008727577222554489\n"
     ]
    },
    {
     "name": "stderr",
     "output_type": "stream",
     "text": [
      "100%|██████████| 43/43 [00:11<00:00,  3.81it/s]\n"
     ]
    },
    {
     "name": "stdout",
     "output_type": "stream",
     "text": [
      "Epoch 67 finished, train loss: 0.008562948738852905\n"
     ]
    },
    {
     "name": "stderr",
     "output_type": "stream",
     "text": [
      "100%|██████████| 43/43 [00:10<00:00,  4.28it/s]\n"
     ]
    },
    {
     "name": "stdout",
     "output_type": "stream",
     "text": [
      "Epoch 68 finished, train loss: 0.008490206738717334\n"
     ]
    },
    {
     "name": "stderr",
     "output_type": "stream",
     "text": [
      "100%|██████████| 43/43 [00:16<00:00,  2.66it/s]\n"
     ]
    },
    {
     "name": "stdout",
     "output_type": "stream",
     "text": [
      "Epoch 69 finished, train loss: 0.008354457257705372\n"
     ]
    },
    {
     "name": "stderr",
     "output_type": "stream",
     "text": [
      "100%|██████████| 43/43 [00:10<00:00,  4.20it/s]\n"
     ]
    },
    {
     "name": "stdout",
     "output_type": "stream",
     "text": [
      "Epoch 70 finished, train loss: 0.008274479725852955\n"
     ]
    },
    {
     "name": "stderr",
     "output_type": "stream",
     "text": [
      "100%|██████████| 43/43 [00:09<00:00,  4.76it/s]\n"
     ]
    },
    {
     "name": "stdout",
     "output_type": "stream",
     "text": [
      "Epoch 71 finished, train loss: 0.008179516509868378\n"
     ]
    },
    {
     "name": "stderr",
     "output_type": "stream",
     "text": [
      "100%|██████████| 43/43 [00:08<00:00,  4.80it/s]\n"
     ]
    },
    {
     "name": "stdout",
     "output_type": "stream",
     "text": [
      "Epoch 72 finished, train loss: 0.008046386958381464\n"
     ]
    },
    {
     "name": "stderr",
     "output_type": "stream",
     "text": [
      "100%|██████████| 43/43 [00:08<00:00,  4.78it/s]\n"
     ]
    },
    {
     "name": "stdout",
     "output_type": "stream",
     "text": [
      "Epoch 73 finished, train loss: 0.007952522410642962\n"
     ]
    },
    {
     "name": "stderr",
     "output_type": "stream",
     "text": [
      "100%|██████████| 43/43 [00:08<00:00,  4.97it/s]\n"
     ]
    },
    {
     "name": "stdout",
     "output_type": "stream",
     "text": [
      "Epoch 74 finished, train loss: 0.007864936883019846\n"
     ]
    },
    {
     "name": "stderr",
     "output_type": "stream",
     "text": [
      "100%|██████████| 43/43 [00:08<00:00,  4.95it/s]\n"
     ]
    },
    {
     "name": "stdout",
     "output_type": "stream",
     "text": [
      "Epoch 75 finished, train loss: 0.00777162738187715\n"
     ]
    },
    {
     "name": "stderr",
     "output_type": "stream",
     "text": [
      "100%|██████████| 43/43 [00:17<00:00,  2.49it/s]\n"
     ]
    },
    {
     "name": "stdout",
     "output_type": "stream",
     "text": [
      "Epoch 76 finished, train loss: 0.007712434316703746\n"
     ]
    },
    {
     "name": "stderr",
     "output_type": "stream",
     "text": [
      "100%|██████████| 43/43 [00:11<00:00,  3.64it/s]\n"
     ]
    },
    {
     "name": "stdout",
     "output_type": "stream",
     "text": [
      "Epoch 77 finished, train loss: 0.007615147884068794\n"
     ]
    },
    {
     "name": "stderr",
     "output_type": "stream",
     "text": [
      "100%|██████████| 43/43 [00:09<00:00,  4.39it/s]\n"
     ]
    },
    {
     "name": "stdout",
     "output_type": "stream",
     "text": [
      "Epoch 78 finished, train loss: 0.00750651829984299\n"
     ]
    },
    {
     "name": "stderr",
     "output_type": "stream",
     "text": [
      "100%|██████████| 43/43 [00:08<00:00,  4.86it/s]\n"
     ]
    },
    {
     "name": "stdout",
     "output_type": "stream",
     "text": [
      "Epoch 79 finished, train loss: 0.007434897817844568\n"
     ]
    },
    {
     "name": "stderr",
     "output_type": "stream",
     "text": [
      "100%|██████████| 43/43 [00:09<00:00,  4.75it/s]\n"
     ]
    },
    {
     "name": "stdout",
     "output_type": "stream",
     "text": [
      "Epoch 80 finished, train loss: 0.007327829736696426\n"
     ]
    },
    {
     "name": "stderr",
     "output_type": "stream",
     "text": [
      "100%|██████████| 43/43 [00:08<00:00,  4.83it/s]\n"
     ]
    },
    {
     "name": "stdout",
     "output_type": "stream",
     "text": [
      "Epoch 81 finished, train loss: 0.007262628070663574\n"
     ]
    },
    {
     "name": "stderr",
     "output_type": "stream",
     "text": [
      "100%|██████████| 43/43 [00:09<00:00,  4.77it/s]\n"
     ]
    },
    {
     "name": "stdout",
     "output_type": "stream",
     "text": [
      "Epoch 82 finished, train loss: 0.007173952256697555\n"
     ]
    },
    {
     "name": "stderr",
     "output_type": "stream",
     "text": [
      "100%|██████████| 43/43 [00:09<00:00,  4.71it/s]\n"
     ]
    },
    {
     "name": "stdout",
     "output_type": "stream",
     "text": [
      "Epoch 83 finished, train loss: 0.007139477954614301\n"
     ]
    },
    {
     "name": "stderr",
     "output_type": "stream",
     "text": [
      "100%|██████████| 43/43 [00:09<00:00,  4.64it/s]\n"
     ]
    },
    {
     "name": "stdout",
     "output_type": "stream",
     "text": [
      "Epoch 84 finished, train loss: 0.007049035551676223\n"
     ]
    },
    {
     "name": "stderr",
     "output_type": "stream",
     "text": [
      "100%|██████████| 43/43 [00:16<00:00,  2.66it/s]\n"
     ]
    },
    {
     "name": "stdout",
     "output_type": "stream",
     "text": [
      "Epoch 85 finished, train loss: 0.0069654259267588\n"
     ]
    },
    {
     "name": "stderr",
     "output_type": "stream",
     "text": [
      "100%|██████████| 43/43 [00:11<00:00,  3.67it/s]\n"
     ]
    },
    {
     "name": "stdout",
     "output_type": "stream",
     "text": [
      "Epoch 86 finished, train loss: 0.006874017926409494\n"
     ]
    },
    {
     "name": "stderr",
     "output_type": "stream",
     "text": [
      "100%|██████████| 43/43 [00:11<00:00,  3.90it/s]\n"
     ]
    },
    {
     "name": "stdout",
     "output_type": "stream",
     "text": [
      "Epoch 87 finished, train loss: 0.006852972093796314\n"
     ]
    },
    {
     "name": "stderr",
     "output_type": "stream",
     "text": [
      "100%|██████████| 43/43 [00:09<00:00,  4.64it/s]\n"
     ]
    },
    {
     "name": "stdout",
     "output_type": "stream",
     "text": [
      "Epoch 88 finished, train loss: 0.006737322319125713\n"
     ]
    },
    {
     "name": "stderr",
     "output_type": "stream",
     "text": [
      "100%|██████████| 43/43 [00:17<00:00,  2.42it/s]\n"
     ]
    },
    {
     "name": "stdout",
     "output_type": "stream",
     "text": [
      "Epoch 89 finished, train loss: 0.0066423020542187745\n"
     ]
    },
    {
     "name": "stderr",
     "output_type": "stream",
     "text": [
      "100%|██████████| 43/43 [00:11<00:00,  3.64it/s]\n"
     ]
    },
    {
     "name": "stdout",
     "output_type": "stream",
     "text": [
      "Epoch 90 finished, train loss: 0.006595588787350544\n"
     ]
    },
    {
     "name": "stderr",
     "output_type": "stream",
     "text": [
      "100%|██████████| 43/43 [00:08<00:00,  4.81it/s]\n"
     ]
    },
    {
     "name": "stdout",
     "output_type": "stream",
     "text": [
      "Epoch 91 finished, train loss: 0.00653621971303987\n"
     ]
    },
    {
     "name": "stderr",
     "output_type": "stream",
     "text": [
      "100%|██████████| 43/43 [00:09<00:00,  4.78it/s]\n"
     ]
    },
    {
     "name": "stdout",
     "output_type": "stream",
     "text": [
      "Epoch 92 finished, train loss: 0.006497042134490817\n"
     ]
    },
    {
     "name": "stderr",
     "output_type": "stream",
     "text": [
      "100%|██████████| 43/43 [00:08<00:00,  4.81it/s]\n"
     ]
    },
    {
     "name": "stdout",
     "output_type": "stream",
     "text": [
      "Epoch 93 finished, train loss: 0.006451999411246804\n"
     ]
    },
    {
     "name": "stderr",
     "output_type": "stream",
     "text": [
      "100%|██████████| 43/43 [00:15<00:00,  2.69it/s]\n"
     ]
    },
    {
     "name": "stdout",
     "output_type": "stream",
     "text": [
      "Epoch 94 finished, train loss: 0.006359523920299009\n"
     ]
    },
    {
     "name": "stderr",
     "output_type": "stream",
     "text": [
      "100%|██████████| 43/43 [00:11<00:00,  3.64it/s]\n"
     ]
    },
    {
     "name": "stdout",
     "output_type": "stream",
     "text": [
      "Epoch 95 finished, train loss: 0.006310492407443912\n"
     ]
    },
    {
     "name": "stderr",
     "output_type": "stream",
     "text": [
      "100%|██████████| 43/43 [00:10<00:00,  4.04it/s]\n"
     ]
    },
    {
     "name": "stdout",
     "output_type": "stream",
     "text": [
      "Epoch 96 finished, train loss: 0.006235544526473034\n"
     ]
    },
    {
     "name": "stderr",
     "output_type": "stream",
     "text": [
      "100%|██████████| 43/43 [00:18<00:00,  2.37it/s]\n"
     ]
    },
    {
     "name": "stdout",
     "output_type": "stream",
     "text": [
      "Epoch 97 finished, train loss: 0.00615760374294464\n"
     ]
    },
    {
     "name": "stderr",
     "output_type": "stream",
     "text": [
      "100%|██████████| 43/43 [00:10<00:00,  4.00it/s]\n"
     ]
    },
    {
     "name": "stdout",
     "output_type": "stream",
     "text": [
      "Epoch 98 finished, train loss: 0.006103636258346743\n"
     ]
    },
    {
     "name": "stderr",
     "output_type": "stream",
     "text": [
      "100%|██████████| 43/43 [00:09<00:00,  4.48it/s]\n"
     ]
    },
    {
     "name": "stdout",
     "output_type": "stream",
     "text": [
      "Epoch 99 finished, train loss: 0.006045668840754864\n"
     ]
    },
    {
     "name": "stderr",
     "output_type": "stream",
     "text": [
      "100%|██████████| 43/43 [00:09<00:00,  4.73it/s]"
     ]
    },
    {
     "name": "stdout",
     "output_type": "stream",
     "text": [
      "Epoch 100 finished, train loss: 0.005998720902256494\n"
     ]
    },
    {
     "name": "stderr",
     "output_type": "stream",
     "text": [
      "\n"
     ]
    }
   ],
   "source": [
    "epochs = 100\n",
    "\n",
    "for epoch in range(epochs):\n",
    "    epoch_loss = 0.\n",
    "    for batch in tqdm(dataloader):\n",
    "        inputs, labels = batch\n",
    "        inputs, labels = inputs.to(device), labels.to(device)\n",
    "        \n",
    "        logits = model(inputs)\n",
    "        loss = loss_fn(logits, labels)\n",
    "        \n",
    "        optimizer.zero_grad()\n",
    "        loss.backward()\n",
    "        optimizer.step()\n",
    "        \n",
    "        epoch_loss += loss.item()\n",
    "        \n",
    "    print(f\"Epoch {epoch+1} finished, train loss: {epoch_loss / len(dataloader)}\")"
   ]
  },
  {
   "cell_type": "code",
   "execution_count": 6,
   "id": "9241a603",
   "metadata": {},
   "outputs": [
    {
     "name": "stdout",
     "output_type": "stream",
     "text": [
      "tensor([[ 7],\n",
      "        [24]])\n",
      "tensor([[ 7],\n",
      "        [24]])\n",
      "tensor([ -6.0549,  -1.7437,  -8.8945,  -6.5495, -12.1324,  -9.5775,  -9.8230,\n",
      "          1.6025,  -7.1738, -11.0155,  -9.0088,  -1.8157,  -8.9323,  -5.6583,\n",
      "         -4.3313,  -6.2582,  -4.8948,  -9.1755,  -4.7792,  -6.1798,  -4.2904,\n",
      "         -7.3718,  -5.4732,  -6.3603,   1.0459,  -3.9689,  -7.9345,  -3.2641,\n",
      "         -8.0317,  -4.6927, -12.7539,  -6.9042, -11.8692,  -6.0222,  -8.3910,\n",
      "         -8.0081,  -7.9376,  -6.0219,  -5.7270,  -9.2602,  -4.6173,  -6.9237,\n",
      "         -8.2855,  -5.9983,  -9.6159,  -8.6556,  -9.7714,  -9.9828,  -8.5212,\n",
      "         -4.1035,  -4.6489,  -3.8393,  -8.9859,  -7.0772, -10.0190,  -8.1355,\n",
      "         -8.1221,  -6.0019,  -5.7970,  -8.8273,  -9.7669,  -7.9812,  -7.7109,\n",
      "        -10.7248, -10.5166, -10.0818,  -4.0407,  -1.6661,  -8.6470,  -7.8943,\n",
      "         -9.7733,  -4.7770,  -7.8542,  -5.6136,  -6.8574,  -7.3624,  -9.2182,\n",
      "         -8.2442,  -9.1187,  -7.1989,  -7.4427,  -5.8105,  -9.0060,  -4.0272,\n",
      "         -9.2542,  -9.0217,  -5.8565,  -8.9042,  -7.3525,  -7.9919,  -5.5979,\n",
      "        -10.2428,  -7.0252, -10.6685,  -6.8538,  -7.9291,  -5.7077, -12.0673,\n",
      "         -8.1901, -11.5563,  -8.5163, -13.4045,  -9.5879,  -6.4876,  -9.4167,\n",
      "         -7.0339,  -4.8952,  -3.0141,  -9.0405,  -7.3758,  -5.7019,  -6.5236,\n",
      "         -8.8941,  -9.6695,  -8.3555,  -8.8235,  -9.5665,  -8.2114,  -3.3998,\n",
      "         -6.7797,  -6.5479, -11.8485,  -5.4409,  -7.0114,  -6.3365,  -5.8002,\n",
      "         -3.3826,  -7.7936,  -6.3561,  -8.1635,  -6.2835,  -7.3362,  -8.6489,\n",
      "         -3.3148,  -6.5924,  -6.5772, -12.0511,  -8.5154,  -8.9094,  -7.1081,\n",
      "         -8.8459,  -3.7800,  -7.0692,  -7.2266,  -8.2228,  -8.7451,  -7.6384,\n",
      "         -7.9566,  -9.7586, -10.2071,  -6.0697,  -4.8417,  -7.8681,  -7.0813,\n",
      "         -8.7043,  -8.8388,  -6.6727,  -7.3271,  -7.7301,  -7.1449,  -8.0264,\n",
      "         -4.9234,  -8.6030,  -7.0602,  -8.8634,  -4.8744,  -5.4879,  -5.5159,\n",
      "         -9.0857,  -8.2026,  -9.0529,  -8.3104,  -9.3410,  -7.6060,  -3.4724,\n",
      "         -8.2661,  -8.9293,  -7.8652,  -9.9544,  -7.5273,  -7.8650,  -8.7875,\n",
      "         -7.2585,  -6.4136,  -7.9104,  -8.1097,  -6.7677,  -8.4232,  -7.7072,\n",
      "         -8.9681,  -7.2204,  -7.1457,  -8.1874,  -8.1964,  -6.9927,  -4.8940,\n",
      "         -6.0298,  -7.1532,  -6.3772,  -6.8959,  -7.2047,  -7.6916,  -8.4779,\n",
      "         -8.6995,  -8.0161,  -8.0300,  -7.5961,  -9.2468,  -7.5872,  -8.0742,\n",
      "         -7.2391,  -7.2024,  -7.9089,  -7.9830,  -7.3636,  -8.8126,  -7.6128,\n",
      "         -7.7248,  -7.1557,  -7.2854,  -9.6318,  -7.7890,  -9.7974,  -9.8512,\n",
      "         -6.5027,  -9.0208, -10.4669,  -8.7331,  -7.1146,  -6.6863,  -7.2261,\n",
      "        -10.3472,  -7.0427,  -8.6372,  -6.2599,  -7.2197,  -7.9309,  -9.7882,\n",
      "         -9.2408,  -8.7886, -10.5172,  -9.0854,  -8.7825,  -4.9309,  -6.6341,\n",
      "         -5.8396,  -8.1002,  -7.9392,  -7.3956,  -9.4489,  -9.8363,  -7.7133,\n",
      "         -8.2087,  -7.7642,  -7.9357,  -6.2728,  -9.6273,  -7.1604,  -7.3383,\n",
      "         -7.3534,  -8.9083,  -8.0187,  -8.7802,  -6.4848,  -6.7505,  -8.7858,\n",
      "         -8.2975,  -7.4882,  -4.9915,  -4.8399,  -5.9749,  -6.3409,  -6.0312,\n",
      "         -8.3198,  -7.6534,  -6.4717,  -7.4864,  -8.4964,  -7.2113,  -5.8616,\n",
      "         -8.1767,  -7.6344,  -9.5082,  -7.4507,  -8.0706,  -7.4732,  -6.4858,\n",
      "         -6.5588,  -7.4082,  -8.1945,  -7.0470,  -7.1908,  -6.1190,  -7.5382,\n",
      "         -9.2122,  -9.1601,  -8.1881,  -9.6416,  -8.3823,  -8.0140,  -7.8370,\n",
      "         -8.1243,  -9.4962,  -9.2377, -10.1482,  -8.1376,  -7.4324,  -8.1072,\n",
      "         -7.6703,  -7.0974,  -7.1314,  -7.7991,  -9.2714],\n",
      "       grad_fn=<AddBackward0>)\n",
      "tensor([  4,   3,  33,  87, 226,   4,   3,  33,  87, 267])\n"
     ]
    }
   ],
   "source": [
    "model = model.cpu()\n",
    "\n",
    "print((model(dataset[0][0]).sigmoid() > 0.5).nonzero())\n",
    "print(dataset[0][1].nonzero())\n",
    "print(model(dataset[0][0]))\n",
    "print(dataset[0][0])\n",
    "\n",
    "\n"
   ]
  },
  {
   "cell_type": "code",
   "execution_count": 13,
   "id": "279eb8e4",
   "metadata": {},
   "outputs": [
    {
     "name": "stdout",
     "output_type": "stream",
     "text": [
      "clang\n",
      "Interp\n"
     ]
    }
   ],
   "source": [
    "idx2flag = {idx: flag for flag, idx in dataset._flag2idx.items()}\n",
    "for t in (model(dataset[0][0]).sigmoid() > 0.5).nonzero().detach().cpu().numpy().tolist():\n",
    "    print(idx2flag[t[0]])"
   ]
  },
  {
   "cell_type": "code",
   "execution_count": 15,
   "id": "a40fefd4",
   "metadata": {},
   "outputs": [],
   "source": [
    "torch.save(model, \"./flags_classification.pt\")"
   ]
  },
  {
   "cell_type": "code",
   "execution_count": 64,
   "id": "d1f22be1",
   "metadata": {},
   "outputs": [],
   "source": [
    "model2 = torch.load(\"flags_classification.pt\")\n",
    "model2.eval()\n",
    "dataset2 = FlagsDataset(\"dataset.txt\")\n",
    "\n",
    "def find_name(line):\n",
    "    start = line.index('/')\n",
    "    end = line.rindex(' ')\n",
    "    return line[start:end]\n",
    "\n",
    "def parser(name, result):\n",
    "    file = open(name, 'r')\n",
    "    name = \"\"\n",
    "    read_file = 0\n",
    "    for line in file:\n",
    "        if line.find(\"diff --git\") != -1 and read_file == 0:\n",
    "            name = find_name(line)\n",
    "            read_file = 1\n",
    "            result.append(name)\n",
    "        elif line.find(\"diff --git\") != -1 and read_file == 1:\n",
    "            name = \"\"\n",
    "            read_file = 0\n",
    "        elif line[0] == \"+\" and read_file == 1:\n",
    "            pass\n",
    "            #print(line, end= ' ')\n",
    "    file.close()\n",
    "\n",
    "lst = []\n",
    "parser(\"super_risc.test\", lst)\n",
    "\n",
    "idx2flag = {idx: flag for flag, idx in dataset2._flag2idx.items()}\n",
    "\n",
    "tensor = []\n",
    "\n",
    "for path in lst:\n",
    "    path = path.split(\"/\")\n",
    "    for elem in path:\n",
    "        if elem in dataset2._vocab:\n",
    "            tensor.append(dataset2._vocab.index(elem) + 1)\n",
    "\n",
    "\n",
    "\n",
    "\n",
    "for t in (model2(torch.Tensor(tensor).int()).sigmoid() > 0.5).nonzero().detach().cpu().numpy().tolist():\n",
    "    print(idx2flag[t[0]])"
   ]
  }
 ],
 "metadata": {
  "kernelspec": {
   "display_name": "Python 3 (ipykernel)",
   "language": "python",
   "name": "python3"
  },
  "language_info": {
   "codemirror_mode": {
    "name": "ipython",
    "version": 3
   },
   "file_extension": ".py",
   "mimetype": "text/x-python",
   "name": "python",
   "nbconvert_exporter": "python",
   "pygments_lexer": "ipython3",
   "version": "3.11.3"
  }
 },
 "nbformat": 4,
 "nbformat_minor": 5
}
